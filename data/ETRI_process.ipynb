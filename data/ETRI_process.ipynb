{
 "cells": [
  {
   "cell_type": "code",
   "execution_count": null,
   "metadata": {},
   "outputs": [],
   "source": [
    "import pandas as  pd\n",
    "import os\n",
    "from sklearn.preprocessing import LabelEncoder\n",
    "path = '/workspace/data/Etri/processed_data'\n",
    "csv_files = [file for file in os.listdir(path) if file.endswith('.csv')]\n",
    "dataframes = [pd.read_csv(os.path.join(path, file)) for file in csv_files]\n",
    "\n",
    "df = pd.concat(dataframes, ignore_index=True)\n",
    "\n",
    "df['datetime'] = pd.to_datetime(df['datetime'])\n",
    "df = df.set_index('datetime')\n",
    "df.sort_index(inplace=True)\n",
    "gap = 10000\n",
    "now = 0 \n",
    "to_path = '/workspace/data/Etri/date_continual/csv_10000'\n",
    "while df.shape[0] > now:\n",
    "    tmp_df = df[now:now+gap]\n",
    "    tmp_df.to_csv(os.path.join(to_path,f'{now}_ETRI.csv'))\n",
    "    now+=gap\n",
    "\n"
   ]
  },
  {
   "cell_type": "markdown",
   "metadata": {},
   "source": [
    "## 시간별로 새롭게 들어오는 데이터 전처리\n"
   ]
  },
  {
   "cell_type": "code",
   "execution_count": null,
   "metadata": {},
   "outputs": [],
   "source": [
    "import pandas as  pd\n",
    "from sklearn.preprocessing import LabelEncoder\n",
    "import os\n",
    "\n",
    "pre_dir = '/workspace/data/Etri/date_continual/csv_10000/'\n",
    "user_lst = os.listdir(pre_dir)\n",
    "encoder = LabelEncoder()\n",
    "user_lst.sort()\n",
    "for user in user_lst:\n",
    "    df = pd.read_csv(pre_dir+user)\n",
    "    user_number = user.split('.')[0]\n",
    "        \n",
    "    df = df[['e4Hr__x', 'mAcc__x', 'mAcc__y', 'mAcc__z', 'e4Temp__x', 'mMag__x',\n",
    "    'mMag__y', 'mMag__z', 'e4Bvp__x', 'mGps__lat', 'mGps__lon',\n",
    "    'mGps__accuracy', 'mGyr__x', 'mGyr__y', 'mGyr__z', 'e4Acc__x',\n",
    "    'e4Acc__y', 'e4Acc__z', 'e4Eda__x','emotionPositive', 'emotionTension']]\n",
    "\n",
    "    col_means = df.mean()\n",
    "    \n",
    "    # fill missing values with the mean of the corresponding column\n",
    "\n",
    "    # 기본 전처리 \n",
    "\n",
    "    df = df.fillna(col_means)\n",
    "\n",
    "    \n",
    "    df['e4Acc'] = df.apply(lambda x: [x['e4Acc__x'], x['e4Acc__y'], x['e4Acc__z']], axis=1)\n",
    "    df['mAcc'] = df.apply(lambda x: [x['mAcc__x'], x['mAcc__y'], x['mAcc__z']], axis=1)\n",
    "\n",
    "    df['mGyr'] = df.apply(lambda x: [x['mGyr__x'], x['mGyr__y'], x['mGyr__z']], axis=1)\n",
    "    df['mGps'] = df.apply(lambda x: [x['mGps__lat'], x['mGps__lon']], axis=1) #j, x['mGps__accuracy']\n",
    "    df['mMag'] = df.apply(lambda x: [x['mMag__x'], x['mMag__y'], x['mMag__z']], axis=1)\n",
    "    df['mAcc'] = df.apply(lambda x: [x['mAcc__x'], x['mAcc__y'], x['mAcc__z']], axis=1)\n",
    "    df['emotionTension'] = df['emotionTension'] -1 \n",
    "    # df['emotionTension'] = df['emotionTension'].apply(lambda x: 0 if x in [0, 1] else 1 if x in [2, 3, 4] else 2)\n",
    "    df['tension_label'] = encoder.fit_transform(df['emotionTension'])\n",
    "    print(df['tension_label'])\n",
    "    break\n",
    "\n",
    "    # df.to_pickle(f'/workspace/data/Etri/date_continual/pickle_2/new_{user_number}.pkl')\n",
    "    print(user,'----'*19)\n",
    "    print('total : ',df.shape)\n",
    "    for i in range(1,8):\n",
    "        print(f'{i} : ',df[df['emotionTension']==i].shape ,f\" Size : {df[df['emotionTension']==i].shape[0] / df.shape[0]}\")\n",
    "        \n",
    "    # print(df[df['emotionTension']==0].shape)\n",
    "    # print(df[df['emotionTension']==1].shape)\n",
    "    # print(df[df['emotionTension']==2].shape)\n",
    "    print('====='*20)\n"
   ]
  }
 ],
 "metadata": {
  "language_info": {
   "name": "python"
  }
 },
 "nbformat": 4,
 "nbformat_minor": 2
}
